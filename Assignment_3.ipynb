{
 "cells": [
  {
   "cell_type": "markdown",
   "id": "5350cdc2",
   "metadata": {},
   "source": [
    "# 1. Why are functions advantageous to have in your programs?"
   ]
  },
  {
   "cell_type": "markdown",
   "id": "06f7dfcd",
   "metadata": {},
   "source": [
    "## Answers\n",
    "\n",
    "In a multi line program if certain code is repeated in various portions of the program, results in copy pasting the same code in various places. If functions are used, they will result in code reusability resulting in less bulky code.\n",
    "\n",
    "Also functions help in code maintenance as well. If in a situation we have written the same code say 3 times, changing the code will become a tedious process. Hence when functions are used, we can change the code at one place and call the functions as many times as we want\n"
   ]
  },
  {
   "cell_type": "markdown",
   "id": "d479a0d3",
   "metadata": {},
   "source": [
    "# 2. When does the code in a function run: when it&#39;s specified or when it&#39;s called?"
   ]
  },
  {
   "cell_type": "markdown",
   "id": "949e2b29",
   "metadata": {},
   "source": [
    "## Answer\n",
    "\n",
    "The function code/body is executed only when the function is called and not when it is specified/defined ."
   ]
  },
  {
   "cell_type": "markdown",
   "id": "e5fa700d",
   "metadata": {},
   "source": [
    "# 3. What statement creates a function?"
   ]
  },
  {
   "cell_type": "markdown",
   "id": "d4ff6d4d",
   "metadata": {},
   "source": [
    "## Answer\n",
    " In order to define a function the keyword used is \"def\" followed by the name of the function"
   ]
  },
  {
   "cell_type": "markdown",
   "id": "0c1471ad",
   "metadata": {},
   "source": [
    "# 4. What is the difference between a function and a function call?"
   ]
  },
  {
   "cell_type": "markdown",
   "id": "078fa74a",
   "metadata": {},
   "source": [
    "## Answer\n",
    "Function is a procedure to achieve a perticular result. where as a function call uses the defined function to achieve the task"
   ]
  },
  {
   "cell_type": "markdown",
   "id": "39be782c",
   "metadata": {},
   "source": [
    "# 5. How many global scopes are there in a Python program? How many local scopes?"
   ]
  },
  {
   "cell_type": "markdown",
   "id": "8501f5da",
   "metadata": {},
   "source": [
    "## Answer\n",
    "There are 4 scopes - Local, enclosing, global and builtin \n",
    "There are only 1 global and 1 local scope \n"
   ]
  },
  {
   "cell_type": "markdown",
   "id": "b526e288",
   "metadata": {},
   "source": [
    "# 6. What happens to variables in a local scope when the function call returns?"
   ]
  },
  {
   "cell_type": "markdown",
   "id": "e301474c",
   "metadata": {},
   "source": [
    "## Answers\n",
    "The variables used inside a function are variables that are in local scope. So when the function call is returned those \n",
    "variables (value) cannot be invoked after the function call ends i.e those variables are forgotten/destroyed."
   ]
  },
  {
   "cell_type": "markdown",
   "id": "73a8854d",
   "metadata": {},
   "source": [
    "# 7. What is the concept of a return value? Is it possible to have a return value in an expression?"
   ]
  },
  {
   "cell_type": "markdown",
   "id": "02f5d8d1",
   "metadata": {},
   "source": [
    "## Answers\n",
    "When a function is called, it performs certain steps/calculations. Now the final output obtained can either be show on the standard output or returned back to the calling function. \n",
    "\n",
    "Now this value returned from the function can be used for further computation, this is the concept of return value.\n",
    "\n",
    "Yes, we can have a return value in an expression"
   ]
  },
  {
   "cell_type": "markdown",
   "id": "80baf49e",
   "metadata": {},
   "source": [
    "# 8. If a function does not have a return statement, what is the return value of a call to that function?"
   ]
  },
  {
   "cell_type": "markdown",
   "id": "bf9e6e9e",
   "metadata": {},
   "source": [
    "## Answer\n",
    "\n",
    "It returns a None value which is of None type"
   ]
  },
  {
   "cell_type": "markdown",
   "id": "b0d0676c",
   "metadata": {},
   "source": [
    "# 9. How do you make a function variable refer to the global variable?"
   ]
  },
  {
   "cell_type": "markdown",
   "id": "5ad86ae8",
   "metadata": {},
   "source": [
    "## Answer \n",
    "You can define the variable inside the function as a global variable using \"Global\" keyword"
   ]
  },
  {
   "cell_type": "markdown",
   "id": "df410aa0",
   "metadata": {},
   "source": [
    "# 10. What is the data type of None?"
   ]
  },
  {
   "cell_type": "markdown",
   "id": "147a8509",
   "metadata": {},
   "source": [
    "## Answer\n",
    "None is from the \"None data type\""
   ]
  },
  {
   "cell_type": "markdown",
   "id": "2c2c706f",
   "metadata": {},
   "source": [
    "# 11. What does the sentence import areallyourpetsnamederic do?"
   ]
  },
  {
   "cell_type": "markdown",
   "id": "9f68ed65",
   "metadata": {},
   "source": [
    "## Answer\n",
    "It imports all the functions from the module \"areallyourpetsnamederic\""
   ]
  },
  {
   "cell_type": "markdown",
   "id": "80d8ee98",
   "metadata": {},
   "source": [
    "# 12. If you had a bacon() feature in a spam module, what would you call it after importing spam?"
   ]
  },
  {
   "cell_type": "markdown",
   "id": "17bf4df0",
   "metadata": {},
   "source": [
    "## Answer\n",
    "spam.bacon()"
   ]
  },
  {
   "cell_type": "markdown",
   "id": "2c5e779e",
   "metadata": {},
   "source": [
    "# 13. What can you do to save a programme from crashing if it encounters an error?"
   ]
  },
  {
   "cell_type": "markdown",
   "id": "937d38fc",
   "metadata": {},
   "source": [
    "## Answer\n",
    "\n",
    "Put the entire code which is erroring out in a try except block. This is used for handling the exceptions"
   ]
  },
  {
   "cell_type": "markdown",
   "id": "7cfe3f7a",
   "metadata": {},
   "source": [
    "# 14. What is the purpose of the try clause? What is the purpose of the except clause?"
   ]
  },
  {
   "cell_type": "markdown",
   "id": "6ceb2b57",
   "metadata": {},
   "source": [
    "## Answer\n",
    "An code that raises an exception should be enclosed in the try block. Once the exception is raised, it will route to the \n",
    "except block where the handling of the error takes place"
   ]
  },
  {
   "cell_type": "code",
   "execution_count": null,
   "id": "15e50301",
   "metadata": {},
   "outputs": [],
   "source": []
  }
 ],
 "metadata": {
  "kernelspec": {
   "display_name": "Python 3 (ipykernel)",
   "language": "python",
   "name": "python3"
  },
  "language_info": {
   "codemirror_mode": {
    "name": "ipython",
    "version": 3
   },
   "file_extension": ".py",
   "mimetype": "text/x-python",
   "name": "python",
   "nbconvert_exporter": "python",
   "pygments_lexer": "ipython3",
   "version": "3.9.7"
  }
 },
 "nbformat": 4,
 "nbformat_minor": 5
}
