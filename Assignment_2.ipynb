{
 "cells": [
  {
   "cell_type": "markdown",
   "id": "28f45f24",
   "metadata": {},
   "source": [
    "# 1.What are the two values of the Boolean data type? How do you write them?"
   ]
  },
  {
   "cell_type": "markdown",
   "id": "8ca89b37",
   "metadata": {},
   "source": [
    "## Answer\n",
    "Boolean values - True (1) or False(0)\n",
    "\n",
    "bool(1) = True\n",
    "\n",
    "bool(0) = False"
   ]
  },
  {
   "cell_type": "markdown",
   "id": "8e497da1",
   "metadata": {},
   "source": [
    "# 2. What are the three different types of Boolean operators?"
   ]
  },
  {
   "cell_type": "markdown",
   "id": "388f16ff",
   "metadata": {},
   "source": [
    "## Answers\n",
    "\n",
    "and,or, not"
   ]
  },
  {
   "cell_type": "markdown",
   "id": "7a529c1d",
   "metadata": {},
   "source": [
    "# 3. Make a list of each Boolean operator&#39;s truth tables (i.e. every possible combination of Boolean values for the operator and what it evaluate )."
   ]
  },
  {
   "cell_type": "markdown",
   "id": "6ae191d7",
   "metadata": {},
   "source": [
    "OR\tA\tB\tO/P\n",
    "\t1\t1\t1\n",
    "\t1\t0\t1\n",
    "\t0\t1\t1\n",
    "\t0\t0\t0\n",
    "\n",
    "AND\tA\tB\tO/P\n",
    "\t1\t1\t1\n",
    "\t1\t0\t0\n",
    "\t0\t1\t0\n",
    "\t0\t0\t0\n",
    "\n",
    "NOT A\tO/P\n",
    "\t0\t1\n",
    "\t1\t0\n",
    "\n",
    "A,B - are inputs\n",
    "o/p - Output"
   ]
  },
  {
   "cell_type": "markdown",
   "id": "1a4e9f8c",
   "metadata": {},
   "source": [
    "# 4. What are the values of the following expressions?\n",
    "# (5 &gt; 4) and (3 == 5)\n",
    "# not (5 &gt; 4)\n",
    "# (5 &gt; 4) or (3 == 5)\n",
    "# not ((5 &gt; 4) or (3 == 5))\n",
    "# (True and True) and (True == False)\n",
    "# (not False) or (not True)"
   ]
  },
  {
   "cell_type": "markdown",
   "id": "84fa92f6",
   "metadata": {},
   "source": [
    "## Answers\n",
    "(5 &gt; 4) and (3 == 5) - False\n",
    "\n",
    "not (5 &gt; 4) - False\n",
    "\n",
    "(5 &gt; 4) or (3 == 5) - True\n",
    "\n",
    "not ((5 &gt; 4) or (3 == 5)) - False\n",
    "\n",
    "(True and True) and (True == False) - False\n",
    "\n",
    "(not False) or (not True) - True"
   ]
  },
  {
   "cell_type": "markdown",
   "id": "2f452618",
   "metadata": {},
   "source": [
    "# 5. What are the six comparison operators?"
   ]
  },
  {
   "cell_type": "markdown",
   "id": "3b255f41",
   "metadata": {},
   "source": [
    "## Answers\n",
    "\">\" - Greater than\n",
    "\n",
    "\"<\" - Less than\n",
    "\n",
    "\">=\" - Greater than equal to\n",
    "\n",
    "\"<=\" - Less than equal to\n",
    "\n",
    "\"==\" - Equal to \n",
    "\n",
    "\"!=\" - Not equal to"
   ]
  },
  {
   "cell_type": "markdown",
   "id": "46ee70e5",
   "metadata": {},
   "source": [
    "# 6. How do you tell the difference between the equal to and assignment operators?Describe a  condition and when you would use one"
   ]
  },
  {
   "cell_type": "markdown",
   "id": "1a83ff51",
   "metadata": {},
   "source": [
    "## Answers\n",
    "\"Equal to\" - Is used when we are comparing variables or values.\n",
    "Ex: a == b \n",
    "\n",
    "the above statement checks if the values inside the placeholders \"a\" , \"b\" are equal or not\n",
    "\n",
    "\"Assignment operator\" - Is used when we are trying to assign a value to a variable (+=,-=,*= etc)\n",
    "ex. a = 10\n",
    "\n",
    "Now the above statement means that the variable \"a\" (after executing the above statement) holds the value of 10.\n"
   ]
  },
  {
   "cell_type": "markdown",
   "id": "dd16ae2c",
   "metadata": {},
   "source": [
    "# 7. Identify the three blocks in this code:\n",
    "spam = 0\n",
    "if spam == 10:\n",
    "print(&#39;eggs&#39;)\n",
    "if spam &gt; 5:\n",
    "print(&#39;bacon&#39;)\n",
    "else:\n",
    "print(&#39;ham&#39;)\n",
    "print(&#39;spam&#39;)\n",
    "print(&#39;spam&#39;)"
   ]
  },
  {
   "cell_type": "markdown",
   "id": "7d834430",
   "metadata": {},
   "source": [
    "## Answers\n",
    "Block 1\n",
    "if spam == 10:\n",
    "print(&#39;eggs&#39;)\n",
    "      \n",
    "Block 2\n",
    "if spam &gt; 5:\n",
    "print(&#39;bacon&#39;)\n",
    "      \n",
    "Block 3\n",
    "else:\n",
    "print(&#39;ham&#39;)\n",
    "print(&#39;spam&#39;)\n",
    "print(&#39;spam&#39;)\n"
   ]
  },
  {
   "cell_type": "markdown",
   "id": "46869c5d",
   "metadata": {},
   "source": [
    "# 8. Write code that prints Hello if 1 is stored in spam, prints Howdy if 2 is stored in spam, and prints Greetings! if anything else is stored in spam."
   ]
  },
  {
   "cell_type": "code",
   "execution_count": 15,
   "id": "f36146ff",
   "metadata": {
    "scrolled": true
   },
   "outputs": [
    {
     "name": "stdout",
     "output_type": "stream",
     "text": [
      "3\n",
      "Greetings!\n"
     ]
    }
   ],
   "source": [
    "spam = int(input())\n",
    "if spam == 1:\n",
    "    print(\"Hello\")\n",
    "elif spam == 2:\n",
    "    print(\"Howdy\")\n",
    "else:\n",
    "    print(\"Greetings!\")"
   ]
  },
  {
   "cell_type": "markdown",
   "id": "1b3aeaff",
   "metadata": {},
   "source": [
    "# 9.If your programme is stuck in an endless loop, what keys you’ll press?"
   ]
  },
  {
   "cell_type": "markdown",
   "id": "59a8c7ab",
   "metadata": {},
   "source": [
    "## Answers\n",
    "Jupyter notebook - press \"i\" (twice)\n",
    "\n",
    "Spyder notebook - ctrl + shift + f12"
   ]
  },
  {
   "cell_type": "markdown",
   "id": "3552ef5d",
   "metadata": {},
   "source": [
    "# 10. How can you tell the difference between break and continue?"
   ]
  },
  {
   "cell_type": "markdown",
   "id": "0795f805",
   "metadata": {},
   "source": [
    "## Answers\n",
    "\n",
    "Break and continue are used to either exit a loop or jump to the next iteration depending on what is used.\n",
    "\n",
    "Break - If a break statement is used inside a loop it exits the entire looping structure and executes all the \n",
    "lines after the looping structure\n",
    "\n",
    "Continue - If a continue statement is used inside a loop it stops the current iteration and jumps to the next iteration in\n",
    "the loop"
   ]
  },
  {
   "cell_type": "markdown",
   "id": "e99a136b",
   "metadata": {},
   "source": [
    "# 11. In a for loop, what is the difference between range(10), range(0, 10), and range(0, 10, 1)?"
   ]
  },
  {
   "cell_type": "markdown",
   "id": "b161b432",
   "metadata": {},
   "source": [
    "# Answer\n",
    "\n",
    "The Range function has the following syntax range(start,stop,step). So considering all the range expressions mentioned\n",
    "above, \n",
    "range(10) - by default has the start=0, stop=10 (mentioned in the question), step = 1 by default\n",
    "range(0,10) - start=0 (mentioned in the question), stop=10 (mentioned in the question), step = 1 by default\n",
    "range(0,10,1) - start=0 (mentioned in the question), stop=10 (mentioned in the question), step =1 (mentioned in the question)\n",
    "\n",
    "So summarizing the answers, all the 3 range(10), range(0,10), range(0,10,1) will provide the same output when used in a \"for\" loop. All the 3 will execite the loop 10 times 0 to 9 in steps of 1"
   ]
  },
  {
   "cell_type": "markdown",
   "id": "6f21bd63",
   "metadata": {},
   "source": [
    "# 12. Write a short program that prints the numbers 1 to 10 using a for loop. Then write an equivalent \n",
    "# program that prints the numbers 1 to 10 using a while loop."
   ]
  },
  {
   "cell_type": "markdown",
   "id": "df1c9f74",
   "metadata": {},
   "source": [
    "\n",
    "## Answers"
   ]
  },
  {
   "cell_type": "code",
   "execution_count": 31,
   "id": "750b2e8f",
   "metadata": {},
   "outputs": [
    {
     "name": "stdout",
     "output_type": "stream",
     "text": [
      "Using the for loop\n",
      "1\n",
      "2\n",
      "3\n",
      "4\n",
      "5\n",
      "6\n",
      "7\n",
      "8\n",
      "9\n",
      "10\n",
      "using while loop\n",
      "1\n",
      "2\n",
      "3\n",
      "4\n",
      "5\n",
      "6\n",
      "7\n",
      "8\n",
      "9\n",
      "10\n"
     ]
    }
   ],
   "source": [
    "print(\"Using the for loop\")\n",
    "for i in range(1,11):\n",
    "    print(i)\n",
    "print(\"using while loop\")\n",
    "i=1\n",
    "while(i<=10):\n",
    "    print(i)\n",
    "    i+=1"
   ]
  },
  {
   "cell_type": "markdown",
   "id": "9425f818",
   "metadata": {},
   "source": [
    "# 13. If you had a function named bacon() inside a module named spam, how would you call it after importing spam?"
   ]
  },
  {
   "cell_type": "markdown",
   "id": "8f9cf025",
   "metadata": {},
   "source": [
    "## Answer\n",
    "1) import spam\n",
    "   spam.bacon()\n",
    "   \n",
    "2) from spam import bacon"
   ]
  }
 ],
 "metadata": {
  "kernelspec": {
   "display_name": "Python 3 (ipykernel)",
   "language": "python",
   "name": "python3"
  },
  "language_info": {
   "codemirror_mode": {
    "name": "ipython",
    "version": 3
   },
   "file_extension": ".py",
   "mimetype": "text/x-python",
   "name": "python",
   "nbconvert_exporter": "python",
   "pygments_lexer": "ipython3",
   "version": "3.9.7"
  }
 },
 "nbformat": 4,
 "nbformat_minor": 5
}
