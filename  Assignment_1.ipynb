{
 "cells": [
  {
   "cell_type": "markdown",
   "id": "385e4b71",
   "metadata": {},
   "source": [
    "## 1. In the below elements which of them are values or an expression? eg:- values can be integer or string and expressions will be mathematical operators.\n",
    "*\n",
    "\n",
    "hello\n",
    "\n",
    "-87.8\n",
    "\n",
    "-\n",
    "\n",
    "/\n",
    "\n",
    "+\n",
    "\n",
    "6\n"
   ]
  },
  {
   "cell_type": "markdown",
   "id": "8933e5e9",
   "metadata": {},
   "source": [
    "### Answer\n",
    "\n",
    "\"*\" - Expression\n",
    "\n",
    "'hello'  Value\n",
    "\n",
    "\"-87.8\"  Value\n",
    "\n",
    "\"-\" expression\n",
    "\n",
    "\"  +\" Expression\n",
    "\n",
    "\"/\" Expression\n",
    "\n",
    "\"6\" Value"
   ]
  },
  {
   "cell_type": "markdown",
   "id": "884be192",
   "metadata": {},
   "source": [
    "## 2. What is the difference between string and variable?"
   ]
  },
  {
   "cell_type": "markdown",
   "id": "0c093e7f",
   "metadata": {},
   "source": [
    "## Answer\n",
    "String - is a data type, which is formed by a collection of characters\n",
    "\n",
    "Variable - is a placeholder which can hold a number of different data types"
   ]
  },
  {
   "cell_type": "markdown",
   "id": "9ac45175",
   "metadata": {},
   "source": [
    "# 3 different data types"
   ]
  },
  {
   "cell_type": "markdown",
   "id": "cd121f9f",
   "metadata": {},
   "source": [
    "## Answer\n",
    "\n",
    "Int - Integers ( combination of positive and negative numbers)\n",
    "\n",
    "Str - String ( combination of characters)\n",
    "\n",
    "Float - floating point - ( decimal numbers)\n",
    "\n",
    "None - None type - ( indicates no value)"
   ]
  },
  {
   "cell_type": "markdown",
   "id": "7d0f313d",
   "metadata": {},
   "source": [
    "# 4 What is an expression made up of? What do all expressions do?"
   ]
  },
  {
   "cell_type": "markdown",
   "id": "553b1ca9",
   "metadata": {},
   "source": [
    "## Answer\n",
    "\n",
    "An expression is made up of operators and operands. All expressions are evaluated to provide a certain output/ calculation\n"
   ]
  },
  {
   "cell_type": "markdown",
   "id": "f92cbba6",
   "metadata": {},
   "source": [
    "# 5 This assignment statements, like spam = 10. What is the difference between an expression and a statement?"
   ]
  },
  {
   "cell_type": "markdown",
   "id": "15a4089a",
   "metadata": {},
   "source": [
    "## Answer\n",
    "An expression is a combination of operator and operands which will eventually provide a final solution/output\n",
    "\n",
    "A statement - helps to assign a value to a variable (can be a phrase i.e collection of strings)"
   ]
  },
  {
   "cell_type": "markdown",
   "id": "e6974439",
   "metadata": {},
   "source": [
    "# 6. After running the following code, what does the variable bacon contain?\n",
    "bacon = 22\n",
    "\n",
    "bacon + 1"
   ]
  },
  {
   "cell_type": "markdown",
   "id": "9c0c27ec",
   "metadata": {},
   "source": [
    "## Answer\n",
    "22"
   ]
  },
  {
   "cell_type": "markdown",
   "id": "71380068",
   "metadata": {},
   "source": [
    "# 7. What should the values of the following two terms be?\n",
    "spam + spamspam&#39;\n",
    "\n",
    "&#39;spam&#39; * 3\n"
   ]
  },
  {
   "cell_type": "markdown",
   "id": "8c8527dd",
   "metadata": {},
   "source": [
    "## Answer\n",
    "'spamspamspam'\n",
    "(will be same in both cases)"
   ]
  },
  {
   "cell_type": "markdown",
   "id": "6b408a7d",
   "metadata": {},
   "source": [
    "# 8. Why is eggs a valid variable name while 100 is invalid?"
   ]
  },
  {
   "cell_type": "markdown",
   "id": "7bbf2dd6",
   "metadata": {},
   "source": [
    "## Answer\n",
    "\n",
    "In python, variables that are created, follow certain rules(some rules below). \n",
    "1) They cannot start with a number\n",
    "2) they cannot start with a special character\n",
    "3) Reserve words not used as variable names\n",
    "\n",
    "Now the variable that was created in above question is eggs and 100, considering the above rules we cannot use 100 as \n",
    "a variable but we can use eggs"
   ]
  },
  {
   "cell_type": "markdown",
   "id": "c5d9af7e",
   "metadata": {},
   "source": [
    "# 9. What three functions can be used to get the integer, floating-point number, or string version of a value?"
   ]
  },
  {
   "cell_type": "markdown",
   "id": "ef8c2251",
   "metadata": {},
   "source": [
    "## Answers\n",
    "int(), float(), str()"
   ]
  },
  {
   "cell_type": "markdown",
   "id": "ff21b407",
   "metadata": {},
   "source": [
    "# 10. Why does this expression cause an error? How can you fix it?\n",
    "&#39;I have eaten &#39; + 99 + &#39; burritos.&#39;"
   ]
  },
  {
   "cell_type": "markdown",
   "id": "41ab812e",
   "metadata": {},
   "source": [
    "## Answers\n",
    "we are adding the number 99 to 2 string operands. This will result in an error as we are adding values that are of\n",
    "2 different types. This can be solved by type casting the int value 99 to string (str(99)or \"99\")"
   ]
  }
 ],
 "metadata": {
  "kernelspec": {
   "display_name": "Python 3 (ipykernel)",
   "language": "python",
   "name": "python3"
  },
  "language_info": {
   "codemirror_mode": {
    "name": "ipython",
    "version": 3
   },
   "file_extension": ".py",
   "mimetype": "text/x-python",
   "name": "python",
   "nbconvert_exporter": "python",
   "pygments_lexer": "ipython3",
   "version": "3.9.7"
  }
 },
 "nbformat": 4,
 "nbformat_minor": 5
}
